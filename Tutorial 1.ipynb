{
 "cells": [
  {
   "cell_type": "code",
   "execution_count": null,
   "metadata": {
    "collapsed": true
   },
   "outputs": [],
   "source": [
    "cd D:\\AI\\Computational Biology\\"
   ]
  },
  {
   "cell_type": "code",
   "execution_count": null,
   "metadata": {
    "collapsed": true
   },
   "outputs": [],
   "source": [
    "# gaussian distribution\n",
    "import pandas as pd\n",
    "import matplotlib.pyplot as plt\n",
    "df = pd.read_excel('Cell-Cycle-Set.xlsx');\n",
    "df.dropna(inplace = True)\n",
    "fig1, ax1 = plt.subplots()\n",
    "df.mean_RNA_G1.hist(ax=ax1, label='RNA')\n",
    "df.mean_protein_G1.hist(ax=ax1, label = 'Protein')\n",
    "ax1.legend()\n",
    "ax1.set_xlabel('Mean G1 Expression')\n",
    "fig1\n"
   ]
  },
  {
   "cell_type": "code",
   "execution_count": null,
   "metadata": {
    "collapsed": true
   },
   "outputs": [],
   "source": [
    "# correlation\n",
    "corr_G1=df.mean_RNA_G1.corr(df.mean_protein_G1)\n",
    "corr_S=df.mean_RNA_S.corr(df.mean_protein_S)\n",
    "corr_G2=df.mean_RNA_G2.corr(df.mean_protein_G2)\n",
    "corr_G1,corr_G2,corr_S"
   ]
  },
  {
   "cell_type": "code",
   "execution_count": null,
   "metadata": {
    "collapsed": true
   },
   "outputs": [],
   "source": [
    "# scatter plot\n",
    "plt.figure(1)\n",
    "plt.scatter(df.mean_RNA_G1,df.mean_protein_G1,label='G1',c='b')\n",
    "plt.title('RNA vs Protein in G1 stage')\n",
    "plt.figure(2)\n",
    "plt.scatter(df.mean_RNA_S,df.mean_protein_S,label='S',c='g')\n",
    "plt.title('RNA vs Protein in S stage')\n",
    "plt.figure(3)\n",
    "plt.scatter(df.mean_RNA_G2,df.mean_protein_G2,label='G2',c='r')\n",
    "plt.title('RNA vs Protein in G2 stage')\n",
    "plt.show()"
   ]
  },
  {
   "cell_type": "code",
   "execution_count": null,
   "metadata": {
    "collapsed": true
   },
   "outputs": [],
   "source": [
    "# using least square regression \n",
    "import numpy as np\n",
    "import math\n",
    "G1 = np.matrix(df.mean_RNA_G1)\n",
    "G1 = G1.T\n",
    "G1 = G1 - np.mean(G1)\n",
    "G1 = G1 / np.std(G1)\n",
    "size = np.shape(G1)\n",
    "rows = size[0]\n",
    "one = np.matrix(np.ones(rows))\n",
    "one = one.T\n",
    "Y = np.hstack((G1,one))\n",
    "f = np.matrix(df.mean_protein_G1)\n",
    "f = f.T\n",
    "f = f - np.mean(f)\n",
    "f = f / np.std(f)\n",
    "# least square regression\n",
    "w = (Y.T*Y).I*Y.T*f\n",
    "fh = Y*w\n",
    "fig2 = plt.plot(f,fh,'r.')\n",
    "plt.xlabel('True value of protein')\n",
    "plt.ylabel('Prediction')\n",
    "plt.title('Linear Regression in G1')\n",
    "plt.show(fig2)\n",
    "sum = 0\n",
    "for i in range(0,rows):\n",
    "    error = pow((fh[i]-f[i]),2)\n",
    "    sum = sum + error\n",
    "sum = sum / rows\n",
    "print('Everage error is:',sum)\n",
    "for k in range(0,10):\n",
    "    print(f[k],fh[k])\n",
    "print(np.mean(f),np.mean(fh)) "
   ]
  },
  {
   "cell_type": "code",
   "execution_count": null,
   "metadata": {
    "collapsed": true
   },
   "outputs": [],
   "source": [
    "# fit a linear model\n",
    "import pandas as pd\n",
    "import matplotlib.pyplot as plt\n",
    "import numpy as np\n",
    "df = pd.read_excel('Cell-Cycle-Set.xlsx');\n",
    "df.dropna(inplace = True)\n",
    "from sklearn.linear_model import LinearRegression\n",
    "model = LinearRegression()\n",
    "x = np.matrix(df.mean_RNA_G1)\n",
    "y = np.matrix(df.mean_protein_G1)\n",
    "x1 = np.matrix(df.mean_RNA_G2)\n",
    "y1 = np.matrix(df.mean_protein_G2)\n",
    "model.fit(x,y)\n",
    "pre_y = model.predict(x1)\n",
    "plt.plot(y1,pre_y,'r.')\n",
    "plt.show()\n"
   ]
  },
  {
   "cell_type": "code",
   "execution_count": null,
   "metadata": {
    "collapsed": true
   },
   "outputs": [],
   "source": [
    "# linear model test\n",
    "from sklearn.linear_model import LinearRegression\n",
    "model2 = LinearRegression()\n",
    "x = np.matrix(df.mean_RNA_G1)\n",
    "y = np.matrix(df.mean_protein_G1)\n",
    "train_x = x[0,0:150]\n",
    "train_y = y[0,0:150]\n",
    "test_x = x[0,151:301]\n",
    "test_y = y[0,151:301]\n",
    "model2.fit(train_x,train_y)\n",
    "pre_y = model2.predict(test_x)\n",
    "plt.plot(test_y,pre_y,'b.')\n",
    "plt.show()"
   ]
  },
  {
   "cell_type": "code",
   "execution_count": null,
   "metadata": {
    "collapsed": true
   },
   "outputs": [],
   "source": [
    "cd D:\\AI\\Computational Biology\\"
   ]
  },
  {
   "cell_type": "code",
   "execution_count": null,
   "metadata": {
    "collapsed": true
   },
   "outputs": [],
   "source": [
    "## Task 2\n",
    "# drop genes without 'cell cycle' in GOBP and 'ribosome' in GOCC\n",
    "import pandas as pd\n",
    "import matplotlib.pyplot as plt\n",
    "df_GOBP = pd.read_excel('Cell-Cycle-Set.xlsx');\n",
    "df_All = pd.read_excel('Cell-Cycle-Set.xlsx');\n",
    "df_GOCC = pd.read_excel('Cell-Cycle-Set.xlsx');\n",
    "df_GOBP.dropna(inplace = True)\n",
    "df_All.dropna(inplace = True)\n",
    "df_GOCC.dropna(inplace = True)\n",
    "string1 = 'cell cycle'   \n",
    "string2 = 'ribosome'\n",
    "idx1 = df_GOBP.GOBP.index\n",
    "idx2 = df_GOCC.GOCC.index\n",
    "for k in range(0,397):\n",
    "    if string1 not in df_GOBP.loc[idx1[k],'GOBP']:\n",
    "        df_GOBP.drop(idx1[k],inplace=True)\n",
    "    if string2 not in df_GOCC.loc[idx2[k],'GOCC']:\n",
    "        df_GOCC.drop(idx2[k],inplace=True)"
   ]
  },
  {
   "cell_type": "code",
   "execution_count": null,
   "metadata": {
    "collapsed": true
   },
   "outputs": [],
   "source": [
    "plt.figure(1)\n",
    "plt.scatter(df_All.mean_RNA_G1,df_All.mean_protein_G1,label='All genes',c='0.75')\n",
    "plt.scatter(df_GOBP.mean_RNA_G1,df_GOBP.mean_protein_G1,label='Genes contain cell cycle',c='r')\n",
    "plt.xlabel('RNA')\n",
    "plt.ylabel('protein')\n",
    "plt.title('Genes in G1')\n",
    "plt.legend()\n",
    "plt.figure(2)\n",
    "plt.scatter(df_All.mean_RNA_S,df_All.mean_protein_S,label='All genes',c='0.75')\n",
    "plt.scatter(df_GOBP.mean_RNA_S,df_GOBP.mean_protein_S,label='Genes contain cell cycle',c='b')\n",
    "plt.xlabel('RNA')\n",
    "plt.ylabel('protein')\n",
    "plt.title('Genes in S')\n",
    "plt.legend()\n",
    "plt.figure(3)\n",
    "plt.scatter(df_All.mean_RNA_G2,df_All.mean_protein_G2,label='All genes',c='0.75')\n",
    "plt.scatter(df_GOBP.mean_RNA_G2,df_GOBP.mean_protein_G2,label='Genes contain cell cycle',c='g')\n",
    "plt.xlabel('RNA')\n",
    "plt.ylabel('protein')\n",
    "plt.title('Genes in G2')\n",
    "plt.xlabel('RNA')\n",
    "plt.ylabel('protein')\n",
    "plt.legend()\n",
    "plt.show()\n"
   ]
  },
  {
   "cell_type": "code",
   "execution_count": null,
   "metadata": {
    "collapsed": true
   },
   "outputs": [],
   "source": [
    "plt.figure(1)\n",
    "plt.scatter(df_All.mean_RNA_G1,df_All.mean_protein_G1,label='All genes',c='0.75')\n",
    "plt.scatter(df_GOCC.mean_RNA_G1,df_GOCC.mean_protein_G1,label='Genes contain ribosome',c='r')\n",
    "plt.xlabel('RNA')\n",
    "plt.ylabel('protein')\n",
    "plt.title('Genes in G1')\n",
    "plt.legend()\n",
    "plt.figure(2)\n",
    "plt.scatter(df_All.mean_RNA_S,df_All.mean_protein_S,label='All genes',c='0.75')\n",
    "plt.scatter(df_GOCC.mean_RNA_S,df_GOCC.mean_protein_S,label='Genes contain ribosome',c='b')\n",
    "plt.xlabel('RNA')\n",
    "plt.ylabel('protein')\n",
    "plt.title('Genes in S')\n",
    "plt.legend()\n",
    "plt.figure(3)\n",
    "plt.scatter(df_All.mean_RNA_G2,df_All.mean_protein_G2,label='All genes',c='0.75')\n",
    "plt.scatter(df_GOCC.mean_RNA_G2,df_GOCC.mean_protein_G2,label='Genes contain ribosome',c='g')\n",
    "plt.xlabel('RNA')\n",
    "plt.ylabel('protein')\n",
    "plt.title('Genes in G2')\n",
    "plt.xlabel('RNA')\n",
    "plt.ylabel('protein')\n",
    "plt.legend()\n",
    "plt.show()\n"
   ]
  },
  {
   "cell_type": "code",
   "execution_count": null,
   "metadata": {},
   "outputs": [],
   "source": [
    "cd D:\\AI\\Computational Biology\\"
   ]
  },
  {
   "cell_type": "code",
   "execution_count": null,
   "metadata": {},
   "outputs": [],
   "source": [
    "import pandas as pd\n",
    "import matplotlib.pyplot as plt\n",
    "df = pd.read_excel('Cell-Cycle-Set.xlsx')\n",
    "df.dropna(inplace=True)\n",
    "idx = df.GOBP.index\n",
    "list_terms = []\n",
    "# get all terms in GOBP, store them into list_terms\n",
    "for k in range(0,397):\n",
    "    str = df.loc[idx[k],'GOBP']\n",
    "    result = str.split(';')\n",
    "    n = len(result)\n",
    "    for i in range(0,n):\n",
    "        if result[i] not in list_terms:\n",
    "            list_terms.append(result[i])\n",
    "#create a counter list and initialize to 0\n",
    "list_terms_count = list_terms[:]\n",
    "for p in range(0,len(list_terms)):\n",
    "    list_terms_count[p] = 0\n",
    "#calculate the number of occurrences of each term \n",
    "for t in range(0,397):\n",
    "    str = df.loc[idx[t],'GOBP']\n",
    "    result = str.split(';')\n",
    "    n = len(result)\n",
    "    for j in range(0,n):\n",
    "        list_terms_count[list_terms.index(result[j])] = list_terms_count[list_terms.index(result[j])] + 1\n",
    "#print output\n",
    "length = len(list_terms)\n",
    "for h in range(0,length):\n",
    "    print(list_terms[h], \"    \", list_terms_count[h], \"times\")"
   ]
  },
  {
   "cell_type": "code",
   "execution_count": null,
   "metadata": {
    "collapsed": true
   },
   "outputs": [],
   "source": [
    "cd D:\\AI\\Computational Biology\\"
   ]
  },
  {
   "cell_type": "code",
   "execution_count": null,
   "metadata": {
    "collapsed": true
   },
   "outputs": [],
   "source": [
    "import pandas as pd\n",
    "import matplotlib.pyplot as plt\n",
    "import numpy as np\n",
    "df_GOBP = pd.read_excel('Cell-Cycle-Set.xlsx');\n",
    "df_GOCC = pd.read_excel('Cell-Cycle-Set.xlsx');\n",
    "df_GOBP.dropna(inplace = True)\n",
    "df_GOCC.dropna(inplace = True)\n",
    "string1 = 'cell cycle'   \n",
    "string2 = 'ribosome'\n",
    "idx1 = df_GOBP.GOBP.index\n",
    "idx2 = df_GOCC.GOCC.index\n",
    "for k in range(0,397):\n",
    "    if string1 not in df_GOBP.loc[idx1[k],'GOBP']:\n",
    "        df_GOBP.drop(idx1[k],inplace=True)\n",
    "    if string2 not in df_GOCC.loc[idx2[k],'GOCC']:\n",
    "        df_GOCC.drop(idx2[k],inplace=True)"
   ]
  },
  {
   "cell_type": "code",
   "execution_count": null,
   "metadata": {
    "collapsed": true
   },
   "outputs": [],
   "source": [
    "n1 = len(df_GOBP.GOBP)\n",
    "n2 = len(df_GOCC.GOCC)\n",
    "GOBP_G1_S = np.matrix(np.zeros((n1,2)))\n",
    "GOBP_S_G2 = np.matrix(np.zeros((n1,2)))\n",
    "GOBP_G2_G1 = np.matrix(np.zeros((n1,2)))\n",
    "GOCC_G1_S = np.matrix(np.zeros((n2,2)))\n",
    "GOCC_S_G2 = np.matrix(np.zeros((n2,2)))\n",
    "GOCC_G2_G1 = np.matrix(np.zeros((n2,2)))\n",
    "idx1 = df_GOBP.GOBP.index\n",
    "idx2 = df_GOCC.GOCC.index\n",
    "for i in range(0,n1):\n",
    "    GOBP_G1_S[i,0] = df_GOBP.loc[idx1[i],'mean_RNA_G1'] - df_GOBP.loc[idx1[i],'mean_RNA_S']\n",
    "    GOBP_G1_S[i,1] = df_GOBP.loc[idx1[i],'mean_protein_G1'] - df_GOBP.loc[idx1[i],'mean_protein_S']\n",
    "    GOBP_S_G2[i,0] = df_GOBP.loc[idx1[i],'mean_RNA_S'] - df_GOBP.loc[idx1[i],'mean_RNA_G2']\n",
    "    GOBP_S_G2[i,1] = df_GOBP.loc[idx1[i],'mean_protein_S'] - df_GOBP.loc[idx1[i],'mean_protein_G2']\n",
    "    GOBP_G2_G1[i,0] = df_GOBP.loc[idx1[i],'mean_RNA_G2'] - df_GOBP.loc[idx1[i],'mean_RNA_G1']\n",
    "    GOBP_G2_G1[i,1] = df_GOBP.loc[idx1[i],'mean_protein_G2'] - df_GOBP.loc[idx1[i],'mean_protein_G1']\n",
    "for j in range(0,n2):\n",
    "    GOCC_G1_S[j,0] = df_GOCC.loc[idx2[j],'mean_RNA_G1'] - df_GOCC.loc[idx2[j],'mean_RNA_S']\n",
    "    GOCC_G1_S[j,1] = df_GOCC.loc[idx2[j],'mean_protein_G1'] - df_GOCC.loc[idx2[j],'mean_protein_S']\n",
    "    GOCC_S_G2[j,0] = df_GOCC.loc[idx2[j],'mean_RNA_S'] - df_GOCC.loc[idx2[j],'mean_RNA_G2']\n",
    "    GOCC_S_G2[j,1] = df_GOCC.loc[idx2[j],'mean_protein_S'] - df_GOCC.loc[idx2[j],'mean_protein_G2']\n",
    "    GOCC_G2_G1[j,0] = df_GOCC.loc[idx2[j],'mean_RNA_G2'] - df_GOCC.loc[idx2[j],'mean_RNA_G1']\n",
    "    GOCC_G2_G1[j,1] = df_GOCC.loc[idx2[j],'mean_protein_G2'] - df_GOCC.loc[idx2[j],'mean_protein_G1']"
   ]
  },
  {
   "cell_type": "code",
   "execution_count": null,
   "metadata": {
    "collapsed": true
   },
   "outputs": [],
   "source": [
    "from sklearn import preprocessing\n",
    "GOBP_G1_S_scaled = preprocessing.scale(GOBP_G1_S)\n",
    "GOBP_S_G2_scaled = preprocessing.scale(GOBP_S_G2)\n",
    "GOBP_G2_G1_scaled = preprocessing.scale(GOBP_G2_G1)\n",
    "GOCC_G1_S_scaled = preprocessing.scale(GOCC_G1_S)\n",
    "GOCC_S_G2_scaled = preprocessing.scale(GOCC_S_G2)\n",
    "GOCC_G2_G1_scaled = preprocessing.scale(GOCC_G2_G1)"
   ]
  },
  {
   "cell_type": "code",
   "execution_count": null,
   "metadata": {},
   "outputs": [],
   "source": [
    "plt.figure(1)\n",
    "plt.scatter(GOBP_G1_S_scaled[:,0],GOBP_G1_S_scaled[:,1],label='G1 - S',c='r')\n",
    "plt.scatter(GOBP_S_G2_scaled[:,0],GOBP_S_G2_scaled[:,1],label='S - G2',c='b')\n",
    "plt.scatter(GOBP_G2_G1_scaled[:,0],GOBP_G2_G1_scaled[:,1],label='G2 - G1',c='g')\n",
    "plt.xlabel('RNA')\n",
    "plt.ylabel('protein')\n",
    "plt.title('Genes contain cell cycle in GOBP')\n",
    "plt.legend()\n",
    "plt.figure(2)\n",
    "plt.scatter(GOCC_G1_S_scaled[:,0],GOCC_G1_S_scaled[:,1],label='G1 - S',c='r')\n",
    "plt.scatter(GOCC_S_G2_scaled[:,0],GOCC_S_G2_scaled[:,1],label='S - G2',c='b')\n",
    "plt.scatter(GOCC_G2_G1_scaled[:,0],GOCC_G2_G1_scaled[:,1],label='G2 - G1',c='g')\n",
    "plt.xlabel('RNA')\n",
    "plt.ylabel('protein')\n",
    "plt.title('Genes contain ribosome in GOCC')\n",
    "plt.legend()\n",
    "plt.show()"
   ]
  },
  {
   "cell_type": "code",
   "execution_count": null,
   "metadata": {
    "collapsed": true
   },
   "outputs": [],
   "source": []
  }
 ],
 "metadata": {
  "kernelspec": {
   "display_name": "Python 3",
   "language": "python",
   "name": "python3"
  },
  "language_info": {
   "codemirror_mode": {
    "name": "ipython",
    "version": 3
   },
   "file_extension": ".py",
   "mimetype": "text/x-python",
   "name": "python",
   "nbconvert_exporter": "python",
   "pygments_lexer": "ipython3",
   "version": "3.6.3"
  }
 },
 "nbformat": 4,
 "nbformat_minor": 2
}
